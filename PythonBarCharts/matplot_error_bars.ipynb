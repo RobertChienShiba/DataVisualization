{
 "cells": [
  {
   "cell_type": "code",
   "execution_count": 1,
   "metadata": {
    "collapsed": true
   },
   "outputs": [
    {
     "data": {
      "text/plain": "<Figure size 432x288 with 1 Axes>",
      "image/png": "[encoded data removed]"
     },
     "metadata": {
      "needs_background": "light"
     },
     "output_type": "display_data"
    }
   ],
   "source": [
    "import numpy as np\n",
    "import pandas as pd\n",
    "import matplotlib.pyplot as plt\n",
    "\n",
    "df = pd.DataFrame([\n",
    "    ['Jack', 78, 94],\n",
    "    ['Mary', 67, 71],\n",
    "    ['Mike', 90, 65],\n",
    "    ['David', 81, 88],\n",
    "], columns=['Students', 'Math', 'History'])\n",
    "\n",
    "df_avg = (df['Math'] + df['History']) / 2\n",
    "df_max = df[['Math', 'History']].max(axis=1)\n",
    "df_min = df[['Math', 'History']].min(axis=1)\n",
    "lower_errors = df_avg - df_min\n",
    "upper_errors = df_max - df_avg\n",
    "\n",
    "x = np.arange(len(df))\n",
    "\n",
    "plt.bar(x, df_avg, color=['red', 'green', 'blue', 'yellow'], yerr=[lower_errors, upper_errors], capsize=5)\n",
    "plt.xticks(x, df['Students'])\n",
    "plt.xlabel('Students')\n",
    "plt.ylabel('Math')\n",
    "plt.title('Final Term')\n",
    "plt.show()\n"
   ]
  }
 ],
 "metadata": {
  "kernelspec": {
   "display_name": "Python 3",
   "language": "python",
   "name": "python3"
  },
  "language_info": {
   "codemirror_mode": {
    "name": "ipython",
    "version": 2
   },
   "file_extension": ".py",
   "mimetype": "text/x-python",
   "name": "python",
   "nbconvert_exporter": "python",
   "pygments_lexer": "ipython2",
   "version": "2.7.6"
  }
 },
 "nbformat": 4,
 "nbformat_minor": 0
}