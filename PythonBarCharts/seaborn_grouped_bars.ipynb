{
 "cells": [
  {
   "cell_type": "code",
   "execution_count": 1,
   "metadata": {
    "collapsed": true
   },
   "outputs": [
    {
     "data": {
      "text/plain": "Text(0.5, 1.0, 'Final Term')"
     },
     "execution_count": 1,
     "metadata": {},
     "output_type": "execute_result"
    },
    {
     "data": {
      "text/plain": "<Figure size 432x288 with 1 Axes>",
      "image/png": "[encoded data removed]"
     },
     "metadata": {
      "needs_background": "light"
     },
     "output_type": "display_data"
    }
   ],
   "source": [
    "import pandas as pd\n",
    "import seaborn as sns\n",
    "\n",
    "df = pd.DataFrame([\n",
    "    ['Jack', 'Math', 78],\n",
    "    ['Jack', 'History', 94],\n",
    "    ['Mary', 'Math', 67],\n",
    "    ['Mary', 'History', 71],\n",
    "    ['Mike', 'Math', 90],\n",
    "    ['Mike', 'History', 65],\n",
    "    ['David', 'Math', 81],\n",
    "    ['David', 'History', 88],\n",
    "], columns=['Students', 'Class', 'Scores'])\n",
    "\n",
    "ax = sns.barplot(x='Students', y='Scores', hue='Class', data=df)\n",
    "ax.set_title('Final Term')\n"
   ]
  }
 ],
 "metadata": {
  "kernelspec": {
   "display_name": "Python 3",
   "language": "python",
   "name": "python3"
  },
  "language_info": {
   "codemirror_mode": {
    "name": "ipython",
    "version": 2
   },
   "file_extension": ".py",
   "mimetype": "text/x-python",
   "name": "python",
   "nbconvert_exporter": "python",
   "pygments_lexer": "ipython2",
   "version": "2.7.6"
  }
 },
 "nbformat": 4,
 "nbformat_minor": 0
}